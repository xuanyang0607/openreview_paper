{
  "nbformat": 4,
  "nbformat_minor": 0,
  "metadata": {
    "colab": {
      "provenance": []
    },
    "kernelspec": {
      "name": "python3",
      "display_name": "Python 3"
    },
    "language_info": {
      "name": "python"
    }
  },
  "cells": [
    {
      "cell_type": "markdown",
      "source": [
        "# Load Libraries and data"
      ],
      "metadata": {
        "id": "Kske5q_uFTp3"
      }
    },
    {
      "cell_type": "code",
      "execution_count": 1,
      "metadata": {
        "id": "xF393n_-YyeB"
      },
      "outputs": [],
      "source": [
        "import pandas as pd\n",
        "import seaborn as sns\n",
        "import matplotlib.pyplot as plt\n",
        "import numpy as np\n",
        "import warnings\n",
        "import scipy.stats\n",
        "from scipy.stats import chi2\n",
        "warnings.filterwarnings('ignore')"
      ]
    },
    {
      "cell_type": "code",
      "source": [
        "# The data is contains review results of 3 reviewers for each item based on 9 question critieria\n",
        "# Separate dataframes for each reviewer\n",
        "compare = pd.read_excel('data.xlsx')\n",
        "reviewer1 = compare[['q1_reviewer1', 'q2_reviewer1', 'q3_reviewer1', 'q4_reviewer1',\n",
        "       'q5_reviewer1', 'q6_reviewer1', 'q7_reviewer1', 'q8_reviewer1',\n",
        "       'q9_reviewer1']]\n",
        "reviewer2 = compare[['q1_reviewer2', 'q2_reviewer2', 'q3_reviewer2',\n",
        "       'q4_reviewer2', 'q5_reviewer2', 'q6_reviewer2', 'q7_reviewer2',\n",
        "       'q8_reviewer2', 'q9_reviewer2']]\n",
        "reviewer3 = compare[['q1_reviewer3', 'q2_reviewer3',\n",
        "       'q3_reviewer3', 'q4_reviewer3', 'q5_reviewer3', 'q6_reviewer3',\n",
        "       'q7_reviewer3', 'q8_reviewer3', 'q9_reviewer3']]"
      ],
      "metadata": {
        "id": "mqH39AqM8nO3"
      },
      "execution_count": 3,
      "outputs": []
    },
    {
      "cell_type": "markdown",
      "source": [
        "# 1.1 Agreement rate among each question: Calculate the agreement rate, defined as whether the reviewers all come to the same consensus. Any deviation from consensus is considered disagreement."
      ],
      "metadata": {
        "id": "iMt0Nv9Lifkd"
      }
    },
    {
      "cell_type": "code",
      "source": [
        "compare_result = pd.DataFrame()\n",
        "questions = ['q1', 'q2', 'q3', 'q4', 'q5', 'q6', 'q7', 'q8', 'q9']\n",
        "\n",
        "for question in questions:\n",
        "  compare_result[f'{question}'] = compare.apply(lambda x: True if (float(x[f\"{question}_reviewer1\"]) == float(x[f\"{question}_reviewer2\"]) \n",
        "                                                               and float(x[f\"{question}_reviewer2\"]) == float(x[f\"{question}_reviewer3\"])) else False, axis=1)\n",
        "print(compare_result.sum()/len(compare_result))"
      ],
      "metadata": {
        "colab": {
          "base_uri": "https://localhost:8080/"
        },
        "id": "-sCRDSlfg7IT",
        "outputId": "2f361888-1059-4941-fe91-31974a64bcc9"
      },
      "execution_count": 4,
      "outputs": [
        {
          "output_type": "stream",
          "name": "stdout",
          "text": [
            "q1    0.810864\n",
            "q2    0.820681\n",
            "q3    0.966623\n",
            "q4    0.793194\n",
            "q5    0.989529\n",
            "q6    0.970550\n",
            "q7    0.615838\n",
            "q8    0.289267\n",
            "q9    0.496728\n",
            "dtype: float64\n"
          ]
        }
      ]
    },
    {
      "cell_type": "markdown",
      "source": [
        "#2.1 Interrater Agreement using Fleiss Kappa measurement on each questions\n",
        "-  Fleiss Kappa is a statistical measure for assessing the reliability of agreement between a fixed number of raters when assigning categorical ratings to a number of items or classifying items."
      ],
      "metadata": {
        "id": "8QbJBzXRjNoj"
      }
    },
    {
      "cell_type": "markdown",
      "source": [
        "# Kappa function definition"
      ],
      "metadata": {
        "id": "A5LZ-35QjTPi"
      }
    },
    {
      "cell_type": "code",
      "source": [
        "def fleiss_kappa(M):\n",
        "  \"\"\"\n",
        "  See `Fleiss' Kappa <https://en.wikipedia.org/wiki/Fleiss%27_kappa>`.\n",
        "\n",
        "  This function calculates Fleiss Kappa\n",
        "  \n",
        "  Params:\n",
        "  M: a matrix of shape N x k where `N` is the number of subjects and `k` is the number of categories into which assignments are made.\n",
        "  M[i, j] represents the number of raters who assigned the `i`th subject to the `j`th category: numpy matrix\n",
        "  \"\"\"\n",
        "  N, k = M.shape  # N is # of items, k is # of categories\n",
        "  n_annotators = float(np.sum(M[0, :]))  # # of annotators\n",
        "\n",
        "  p = np.sum(M, axis=0) / (N * n_annotators)\n",
        "  P = (np.sum(M * M, axis=1) - n_annotators) / (n_annotators * (n_annotators - 1))\n",
        "  Pbar = np.sum(P) / N\n",
        "  PbarE = np.sum(p * p)\n",
        "\n",
        "  kappa = (Pbar - PbarE) / (1 - PbarE)\n",
        "\n",
        "  return kappa"
      ],
      "metadata": {
        "id": "EKMpLRJqjCvg"
      },
      "execution_count": 6,
      "outputs": []
    },
    {
      "cell_type": "code",
      "source": [
        "# ratings for questions 1 General\n",
        "kappa_value_l = []\n",
        "for i in range(1,10):\n",
        "  compare[f'No_{i}'] = compare.apply(lambda x : 3 - (float(x[f'q{i}_reviewer1']) + float(x[f'q{i}_reviewer2']) + float(x[f'q{i}_reviewer3'])), axis=1)\n",
        "  compare[f'Yes_{i}'] = compare.apply(lambda x :(float(x[f'q{i}_reviewer1']) + float(x[f'q{i}_reviewer2']) + float(x[f'q{i}_reviewer3'])), axis=1)\n",
        "  kappa = compare[[f'Yes_{i}',f'No_{i}']]\n",
        "  kappa = kappa.values\n",
        "  kappa_value = fleiss_kappa(kappa)\n",
        "  kappa_value_l.append(kappa_value)\n",
        "\n",
        "result_g1 = {\"Criteria\" : ['q1', 'q2', 'q3', 'q4', 'q5', 'q6', 'q7', 'q8', 'q9'], \"Kappa\" : kappa_value_l }\n",
        "pd.DataFrame(result_g1)"
      ],
      "metadata": {
        "colab": {
          "base_uri": "https://localhost:8080/",
          "height": 332
        },
        "id": "4HY15iBMjbos",
        "outputId": "d993187e-e589-490b-c49b-dd183a666629"
      },
      "execution_count": 7,
      "outputs": [
        {
          "output_type": "execute_result",
          "data": {
            "text/plain": [
              "  Criteria     Kappa\n",
              "0       q1  0.649255\n",
              "1       q2  0.545445\n",
              "2       q3  0.093997\n",
              "3       q4  0.399111\n",
              "4       q5  0.715764\n",
              "5       q6  0.460586\n",
              "6       q7  0.177324\n",
              "7       q8  0.052344\n",
              "8       q9  0.223335"
            ],
            "text/html": [
              "\n",
              "  <div id=\"df-316119bf-c1aa-419f-88d2-2fc7e56e6a53\">\n",
              "    <div class=\"colab-df-container\">\n",
              "      <div>\n",
              "<style scoped>\n",
              "    .dataframe tbody tr th:only-of-type {\n",
              "        vertical-align: middle;\n",
              "    }\n",
              "\n",
              "    .dataframe tbody tr th {\n",
              "        vertical-align: top;\n",
              "    }\n",
              "\n",
              "    .dataframe thead th {\n",
              "        text-align: right;\n",
              "    }\n",
              "</style>\n",
              "<table border=\"1\" class=\"dataframe\">\n",
              "  <thead>\n",
              "    <tr style=\"text-align: right;\">\n",
              "      <th></th>\n",
              "      <th>Criteria</th>\n",
              "      <th>Kappa</th>\n",
              "    </tr>\n",
              "  </thead>\n",
              "  <tbody>\n",
              "    <tr>\n",
              "      <th>0</th>\n",
              "      <td>q1</td>\n",
              "      <td>0.649255</td>\n",
              "    </tr>\n",
              "    <tr>\n",
              "      <th>1</th>\n",
              "      <td>q2</td>\n",
              "      <td>0.545445</td>\n",
              "    </tr>\n",
              "    <tr>\n",
              "      <th>2</th>\n",
              "      <td>q3</td>\n",
              "      <td>0.093997</td>\n",
              "    </tr>\n",
              "    <tr>\n",
              "      <th>3</th>\n",
              "      <td>q4</td>\n",
              "      <td>0.399111</td>\n",
              "    </tr>\n",
              "    <tr>\n",
              "      <th>4</th>\n",
              "      <td>q5</td>\n",
              "      <td>0.715764</td>\n",
              "    </tr>\n",
              "    <tr>\n",
              "      <th>5</th>\n",
              "      <td>q6</td>\n",
              "      <td>0.460586</td>\n",
              "    </tr>\n",
              "    <tr>\n",
              "      <th>6</th>\n",
              "      <td>q7</td>\n",
              "      <td>0.177324</td>\n",
              "    </tr>\n",
              "    <tr>\n",
              "      <th>7</th>\n",
              "      <td>q8</td>\n",
              "      <td>0.052344</td>\n",
              "    </tr>\n",
              "    <tr>\n",
              "      <th>8</th>\n",
              "      <td>q9</td>\n",
              "      <td>0.223335</td>\n",
              "    </tr>\n",
              "  </tbody>\n",
              "</table>\n",
              "</div>\n",
              "      <button class=\"colab-df-convert\" onclick=\"convertToInteractive('df-316119bf-c1aa-419f-88d2-2fc7e56e6a53')\"\n",
              "              title=\"Convert this dataframe to an interactive table.\"\n",
              "              style=\"display:none;\">\n",
              "        \n",
              "  <svg xmlns=\"http://www.w3.org/2000/svg\" height=\"24px\"viewBox=\"0 0 24 24\"\n",
              "       width=\"24px\">\n",
              "    <path d=\"M0 0h24v24H0V0z\" fill=\"none\"/>\n",
              "    <path d=\"M18.56 5.44l.94 2.06.94-2.06 2.06-.94-2.06-.94-.94-2.06-.94 2.06-2.06.94zm-11 1L8.5 8.5l.94-2.06 2.06-.94-2.06-.94L8.5 2.5l-.94 2.06-2.06.94zm10 10l.94 2.06.94-2.06 2.06-.94-2.06-.94-.94-2.06-.94 2.06-2.06.94z\"/><path d=\"M17.41 7.96l-1.37-1.37c-.4-.4-.92-.59-1.43-.59-.52 0-1.04.2-1.43.59L10.3 9.45l-7.72 7.72c-.78.78-.78 2.05 0 2.83L4 21.41c.39.39.9.59 1.41.59.51 0 1.02-.2 1.41-.59l7.78-7.78 2.81-2.81c.8-.78.8-2.07 0-2.86zM5.41 20L4 18.59l7.72-7.72 1.47 1.35L5.41 20z\"/>\n",
              "  </svg>\n",
              "      </button>\n",
              "      \n",
              "  <style>\n",
              "    .colab-df-container {\n",
              "      display:flex;\n",
              "      flex-wrap:wrap;\n",
              "      gap: 12px;\n",
              "    }\n",
              "\n",
              "    .colab-df-convert {\n",
              "      background-color: #E8F0FE;\n",
              "      border: none;\n",
              "      border-radius: 50%;\n",
              "      cursor: pointer;\n",
              "      display: none;\n",
              "      fill: #1967D2;\n",
              "      height: 32px;\n",
              "      padding: 0 0 0 0;\n",
              "      width: 32px;\n",
              "    }\n",
              "\n",
              "    .colab-df-convert:hover {\n",
              "      background-color: #E2EBFA;\n",
              "      box-shadow: 0px 1px 2px rgba(60, 64, 67, 0.3), 0px 1px 3px 1px rgba(60, 64, 67, 0.15);\n",
              "      fill: #174EA6;\n",
              "    }\n",
              "\n",
              "    [theme=dark] .colab-df-convert {\n",
              "      background-color: #3B4455;\n",
              "      fill: #D2E3FC;\n",
              "    }\n",
              "\n",
              "    [theme=dark] .colab-df-convert:hover {\n",
              "      background-color: #434B5C;\n",
              "      box-shadow: 0px 1px 3px 1px rgba(0, 0, 0, 0.15);\n",
              "      filter: drop-shadow(0px 1px 2px rgba(0, 0, 0, 0.3));\n",
              "      fill: #FFFFFF;\n",
              "    }\n",
              "  </style>\n",
              "\n",
              "      <script>\n",
              "        const buttonEl =\n",
              "          document.querySelector('#df-316119bf-c1aa-419f-88d2-2fc7e56e6a53 button.colab-df-convert');\n",
              "        buttonEl.style.display =\n",
              "          google.colab.kernel.accessAllowed ? 'block' : 'none';\n",
              "\n",
              "        async function convertToInteractive(key) {\n",
              "          const element = document.querySelector('#df-316119bf-c1aa-419f-88d2-2fc7e56e6a53');\n",
              "          const dataTable =\n",
              "            await google.colab.kernel.invokeFunction('convertToInteractive',\n",
              "                                                     [key], {});\n",
              "          if (!dataTable) return;\n",
              "\n",
              "          const docLinkHtml = 'Like what you see? Visit the ' +\n",
              "            '<a target=\"_blank\" href=https://colab.research.google.com/notebooks/data_table.ipynb>data table notebook</a>'\n",
              "            + ' to learn more about interactive tables.';\n",
              "          element.innerHTML = '';\n",
              "          dataTable['output_type'] = 'display_data';\n",
              "          await google.colab.output.renderOutput(dataTable, element);\n",
              "          const docLink = document.createElement('div');\n",
              "          docLink.innerHTML = docLinkHtml;\n",
              "          element.appendChild(docLink);\n",
              "        }\n",
              "      </script>\n",
              "    </div>\n",
              "  </div>\n",
              "  "
            ]
          },
          "metadata": {},
          "execution_count": 7
        }
      ]
    },
    {
      "cell_type": "code",
      "source": [
        "# I don't understand what this is doing\n",
        "for i,name in zip([reviewer1, reviewer2, reviewer3], ['reviewer1', 'reviewer2', 'reviewer3']): \n",
        "  i[\"score_3\"] = i[f'q4_{name}'].astype(float) + i[f'q7_{name}'].astype(float) * 1/3  +  i[f'q8_{name}'].astype(float) * 1/3 +  i[f'q9_{name}'].astype(float) * 1/3\n",
        "  i[\"score2\"] = i.apply(lambda x : 2 if (float(x[f'q2_{name}']) + 2*float(x[f'q3_{name}'])) > 2 else (float(x[f'q2_{name}']) + 2*float(x[f'q3_{name}'])), axis=1) + i.apply(lambda x : 3 if (2*float(x[f'q5_{name}']) + 2*float(x[f'q6_{name}'])) > 3 else (2*float(x[f'q5_{name}']) + 2*float(x[f'q6_{name}'])), axis=1)\n",
        "  i[\"final_score\"] = i[\"score_3\"] + i[\"score2\"]\n",
        "  i.drop([\"score2\",\"score_3\"], inplace= True, axis= 1)\n",
        "  i['final_score_1'] = i.apply(lambda x : round(x[\"final_score\"]), axis= 1)\n",
        "  i[\"classification\"] = i.apply(lambda x : \"Others\" if x['final_score_1'] <= 1 else (\"target1\" if x['final_score_1'] >= 4 else \"target2\") , axis= 1)"
      ],
      "metadata": {
        "id": "xJ1OJDRup-Dk"
      },
      "execution_count": 8,
      "outputs": []
    },
    {
      "cell_type": "code",
      "source": [
        "# I don't know what is going on here. You need more descriptive columns\n",
        "final_group = pd.merge(reviewer1, reviewer2, left_index=True, right_index=True)[['final_score_x', 'final_score_1_x', 'final_score_y', 'classification_x', 'final_score_1_y', 'classification_y']]\n",
        "final_group = final_group.merge(reviewer3, left_index=True, right_index=True)[['final_score_x', 'final_score_1_x', 'final_score_y','final_score', 'classification_x', 'final_score_1_y', 'classification_y','classification']]\n",
        "final_group = final_group.rename(columns={\"final_score_x\": \"final_score_r1\",\"final_score_y\": \"final_score_r2\",\"final_score\": \"final_score_r3\"})\n",
        "final_group['avg'] = final_group.apply(lambda x: (x[\"final_score_r1\"]+x[\"final_score_r2\"]+x[\"final_score_r3\"])/3, axis= 1)\n",
        "final_group['avg_round'] = final_group.apply(lambda x: round(x[\"avg\"]), axis= 1)\n",
        "final_group['avg_classification'] = final_group.apply(lambda x : \"Others\" if x[\"avg_round\"] <= 1 else (\"target1\" if x[\"avg_round\"] >= 4 else \"target2\") , axis= 1)\n",
        "final_group"
      ],
      "metadata": {
        "colab": {
          "base_uri": "https://localhost:8080/",
          "height": 424
        },
        "id": "qbuzgtLhuOBX",
        "outputId": "174651c4-34be-4686-e64f-3a77092748e5"
      },
      "execution_count": 9,
      "outputs": [
        {
          "output_type": "execute_result",
          "data": {
            "text/plain": [
              "      final_score_r1  final_score_1_x  final_score_r2  final_score_r3  \\\n",
              "0           2.333333                2        3.000000        2.000000   \n",
              "1           0.666667                1        0.666667        0.000000   \n",
              "2           2.333333                2        2.000000        2.000000   \n",
              "3           1.000000                1        0.666667        0.000000   \n",
              "4           0.333333                0        1.000000        0.000000   \n",
              "...              ...              ...             ...             ...   \n",
              "1523        0.333333                0        0.000000        0.333333   \n",
              "1524        1.333333                1        0.333333        0.000000   \n",
              "1525        0.000000                0        0.000000        0.000000   \n",
              "1526        0.333333                0        0.000000        0.000000   \n",
              "1527        0.000000                0        0.666667        0.000000   \n",
              "\n",
              "     classification_x  final_score_1_y classification_y classification  \\\n",
              "0             target2                3          target2        target2   \n",
              "1              Others                1           Others         Others   \n",
              "2             target2                2          target2        target2   \n",
              "3              Others                1           Others         Others   \n",
              "4              Others                1           Others         Others   \n",
              "...               ...              ...              ...            ...   \n",
              "1523           Others                0           Others         Others   \n",
              "1524           Others                0           Others         Others   \n",
              "1525           Others                0           Others         Others   \n",
              "1526           Others                0           Others         Others   \n",
              "1527           Others                1           Others         Others   \n",
              "\n",
              "           avg  avg_round avg_classification  \n",
              "0     2.444444          2            target2  \n",
              "1     0.444444          0             Others  \n",
              "2     2.111111          2            target2  \n",
              "3     0.555556          1             Others  \n",
              "4     0.444444          0             Others  \n",
              "...        ...        ...                ...  \n",
              "1523  0.222222          0             Others  \n",
              "1524  0.555556          1             Others  \n",
              "1525  0.000000          0             Others  \n",
              "1526  0.111111          0             Others  \n",
              "1527  0.222222          0             Others  \n",
              "\n",
              "[1528 rows x 11 columns]"
            ],
            "text/html": [
              "\n",
              "  <div id=\"df-b539f1b9-2733-46e3-8bdd-1b424533ae2c\">\n",
              "    <div class=\"colab-df-container\">\n",
              "      <div>\n",
              "<style scoped>\n",
              "    .dataframe tbody tr th:only-of-type {\n",
              "        vertical-align: middle;\n",
              "    }\n",
              "\n",
              "    .dataframe tbody tr th {\n",
              "        vertical-align: top;\n",
              "    }\n",
              "\n",
              "    .dataframe thead th {\n",
              "        text-align: right;\n",
              "    }\n",
              "</style>\n",
              "<table border=\"1\" class=\"dataframe\">\n",
              "  <thead>\n",
              "    <tr style=\"text-align: right;\">\n",
              "      <th></th>\n",
              "      <th>final_score_r1</th>\n",
              "      <th>final_score_1_x</th>\n",
              "      <th>final_score_r2</th>\n",
              "      <th>final_score_r3</th>\n",
              "      <th>classification_x</th>\n",
              "      <th>final_score_1_y</th>\n",
              "      <th>classification_y</th>\n",
              "      <th>classification</th>\n",
              "      <th>avg</th>\n",
              "      <th>avg_round</th>\n",
              "      <th>avg_classification</th>\n",
              "    </tr>\n",
              "  </thead>\n",
              "  <tbody>\n",
              "    <tr>\n",
              "      <th>0</th>\n",
              "      <td>2.333333</td>\n",
              "      <td>2</td>\n",
              "      <td>3.000000</td>\n",
              "      <td>2.000000</td>\n",
              "      <td>target2</td>\n",
              "      <td>3</td>\n",
              "      <td>target2</td>\n",
              "      <td>target2</td>\n",
              "      <td>2.444444</td>\n",
              "      <td>2</td>\n",
              "      <td>target2</td>\n",
              "    </tr>\n",
              "    <tr>\n",
              "      <th>1</th>\n",
              "      <td>0.666667</td>\n",
              "      <td>1</td>\n",
              "      <td>0.666667</td>\n",
              "      <td>0.000000</td>\n",
              "      <td>Others</td>\n",
              "      <td>1</td>\n",
              "      <td>Others</td>\n",
              "      <td>Others</td>\n",
              "      <td>0.444444</td>\n",
              "      <td>0</td>\n",
              "      <td>Others</td>\n",
              "    </tr>\n",
              "    <tr>\n",
              "      <th>2</th>\n",
              "      <td>2.333333</td>\n",
              "      <td>2</td>\n",
              "      <td>2.000000</td>\n",
              "      <td>2.000000</td>\n",
              "      <td>target2</td>\n",
              "      <td>2</td>\n",
              "      <td>target2</td>\n",
              "      <td>target2</td>\n",
              "      <td>2.111111</td>\n",
              "      <td>2</td>\n",
              "      <td>target2</td>\n",
              "    </tr>\n",
              "    <tr>\n",
              "      <th>3</th>\n",
              "      <td>1.000000</td>\n",
              "      <td>1</td>\n",
              "      <td>0.666667</td>\n",
              "      <td>0.000000</td>\n",
              "      <td>Others</td>\n",
              "      <td>1</td>\n",
              "      <td>Others</td>\n",
              "      <td>Others</td>\n",
              "      <td>0.555556</td>\n",
              "      <td>1</td>\n",
              "      <td>Others</td>\n",
              "    </tr>\n",
              "    <tr>\n",
              "      <th>4</th>\n",
              "      <td>0.333333</td>\n",
              "      <td>0</td>\n",
              "      <td>1.000000</td>\n",
              "      <td>0.000000</td>\n",
              "      <td>Others</td>\n",
              "      <td>1</td>\n",
              "      <td>Others</td>\n",
              "      <td>Others</td>\n",
              "      <td>0.444444</td>\n",
              "      <td>0</td>\n",
              "      <td>Others</td>\n",
              "    </tr>\n",
              "    <tr>\n",
              "      <th>...</th>\n",
              "      <td>...</td>\n",
              "      <td>...</td>\n",
              "      <td>...</td>\n",
              "      <td>...</td>\n",
              "      <td>...</td>\n",
              "      <td>...</td>\n",
              "      <td>...</td>\n",
              "      <td>...</td>\n",
              "      <td>...</td>\n",
              "      <td>...</td>\n",
              "      <td>...</td>\n",
              "    </tr>\n",
              "    <tr>\n",
              "      <th>1523</th>\n",
              "      <td>0.333333</td>\n",
              "      <td>0</td>\n",
              "      <td>0.000000</td>\n",
              "      <td>0.333333</td>\n",
              "      <td>Others</td>\n",
              "      <td>0</td>\n",
              "      <td>Others</td>\n",
              "      <td>Others</td>\n",
              "      <td>0.222222</td>\n",
              "      <td>0</td>\n",
              "      <td>Others</td>\n",
              "    </tr>\n",
              "    <tr>\n",
              "      <th>1524</th>\n",
              "      <td>1.333333</td>\n",
              "      <td>1</td>\n",
              "      <td>0.333333</td>\n",
              "      <td>0.000000</td>\n",
              "      <td>Others</td>\n",
              "      <td>0</td>\n",
              "      <td>Others</td>\n",
              "      <td>Others</td>\n",
              "      <td>0.555556</td>\n",
              "      <td>1</td>\n",
              "      <td>Others</td>\n",
              "    </tr>\n",
              "    <tr>\n",
              "      <th>1525</th>\n",
              "      <td>0.000000</td>\n",
              "      <td>0</td>\n",
              "      <td>0.000000</td>\n",
              "      <td>0.000000</td>\n",
              "      <td>Others</td>\n",
              "      <td>0</td>\n",
              "      <td>Others</td>\n",
              "      <td>Others</td>\n",
              "      <td>0.000000</td>\n",
              "      <td>0</td>\n",
              "      <td>Others</td>\n",
              "    </tr>\n",
              "    <tr>\n",
              "      <th>1526</th>\n",
              "      <td>0.333333</td>\n",
              "      <td>0</td>\n",
              "      <td>0.000000</td>\n",
              "      <td>0.000000</td>\n",
              "      <td>Others</td>\n",
              "      <td>0</td>\n",
              "      <td>Others</td>\n",
              "      <td>Others</td>\n",
              "      <td>0.111111</td>\n",
              "      <td>0</td>\n",
              "      <td>Others</td>\n",
              "    </tr>\n",
              "    <tr>\n",
              "      <th>1527</th>\n",
              "      <td>0.000000</td>\n",
              "      <td>0</td>\n",
              "      <td>0.666667</td>\n",
              "      <td>0.000000</td>\n",
              "      <td>Others</td>\n",
              "      <td>1</td>\n",
              "      <td>Others</td>\n",
              "      <td>Others</td>\n",
              "      <td>0.222222</td>\n",
              "      <td>0</td>\n",
              "      <td>Others</td>\n",
              "    </tr>\n",
              "  </tbody>\n",
              "</table>\n",
              "<p>1528 rows × 11 columns</p>\n",
              "</div>\n",
              "      <button class=\"colab-df-convert\" onclick=\"convertToInteractive('df-b539f1b9-2733-46e3-8bdd-1b424533ae2c')\"\n",
              "              title=\"Convert this dataframe to an interactive table.\"\n",
              "              style=\"display:none;\">\n",
              "        \n",
              "  <svg xmlns=\"http://www.w3.org/2000/svg\" height=\"24px\"viewBox=\"0 0 24 24\"\n",
              "       width=\"24px\">\n",
              "    <path d=\"M0 0h24v24H0V0z\" fill=\"none\"/>\n",
              "    <path d=\"M18.56 5.44l.94 2.06.94-2.06 2.06-.94-2.06-.94-.94-2.06-.94 2.06-2.06.94zm-11 1L8.5 8.5l.94-2.06 2.06-.94-2.06-.94L8.5 2.5l-.94 2.06-2.06.94zm10 10l.94 2.06.94-2.06 2.06-.94-2.06-.94-.94-2.06-.94 2.06-2.06.94z\"/><path d=\"M17.41 7.96l-1.37-1.37c-.4-.4-.92-.59-1.43-.59-.52 0-1.04.2-1.43.59L10.3 9.45l-7.72 7.72c-.78.78-.78 2.05 0 2.83L4 21.41c.39.39.9.59 1.41.59.51 0 1.02-.2 1.41-.59l7.78-7.78 2.81-2.81c.8-.78.8-2.07 0-2.86zM5.41 20L4 18.59l7.72-7.72 1.47 1.35L5.41 20z\"/>\n",
              "  </svg>\n",
              "      </button>\n",
              "      \n",
              "  <style>\n",
              "    .colab-df-container {\n",
              "      display:flex;\n",
              "      flex-wrap:wrap;\n",
              "      gap: 12px;\n",
              "    }\n",
              "\n",
              "    .colab-df-convert {\n",
              "      background-color: #E8F0FE;\n",
              "      border: none;\n",
              "      border-radius: 50%;\n",
              "      cursor: pointer;\n",
              "      display: none;\n",
              "      fill: #1967D2;\n",
              "      height: 32px;\n",
              "      padding: 0 0 0 0;\n",
              "      width: 32px;\n",
              "    }\n",
              "\n",
              "    .colab-df-convert:hover {\n",
              "      background-color: #E2EBFA;\n",
              "      box-shadow: 0px 1px 2px rgba(60, 64, 67, 0.3), 0px 1px 3px 1px rgba(60, 64, 67, 0.15);\n",
              "      fill: #174EA6;\n",
              "    }\n",
              "\n",
              "    [theme=dark] .colab-df-convert {\n",
              "      background-color: #3B4455;\n",
              "      fill: #D2E3FC;\n",
              "    }\n",
              "\n",
              "    [theme=dark] .colab-df-convert:hover {\n",
              "      background-color: #434B5C;\n",
              "      box-shadow: 0px 1px 3px 1px rgba(0, 0, 0, 0.15);\n",
              "      filter: drop-shadow(0px 1px 2px rgba(0, 0, 0, 0.3));\n",
              "      fill: #FFFFFF;\n",
              "    }\n",
              "  </style>\n",
              "\n",
              "      <script>\n",
              "        const buttonEl =\n",
              "          document.querySelector('#df-b539f1b9-2733-46e3-8bdd-1b424533ae2c button.colab-df-convert');\n",
              "        buttonEl.style.display =\n",
              "          google.colab.kernel.accessAllowed ? 'block' : 'none';\n",
              "\n",
              "        async function convertToInteractive(key) {\n",
              "          const element = document.querySelector('#df-b539f1b9-2733-46e3-8bdd-1b424533ae2c');\n",
              "          const dataTable =\n",
              "            await google.colab.kernel.invokeFunction('convertToInteractive',\n",
              "                                                     [key], {});\n",
              "          if (!dataTable) return;\n",
              "\n",
              "          const docLinkHtml = 'Like what you see? Visit the ' +\n",
              "            '<a target=\"_blank\" href=https://colab.research.google.com/notebooks/data_table.ipynb>data table notebook</a>'\n",
              "            + ' to learn more about interactive tables.';\n",
              "          element.innerHTML = '';\n",
              "          dataTable['output_type'] = 'display_data';\n",
              "          await google.colab.output.renderOutput(dataTable, element);\n",
              "          const docLink = document.createElement('div');\n",
              "          docLink.innerHTML = docLinkHtml;\n",
              "          element.appendChild(docLink);\n",
              "        }\n",
              "      </script>\n",
              "    </div>\n",
              "  </div>\n",
              "  "
            ]
          },
          "metadata": {},
          "execution_count": 9
        }
      ]
    },
    {
      "cell_type": "code",
      "source": [
        "final_group[\"mode\"] = final_group[[\"classification_x\",\"classification_y\",\"classification\"]].mode(axis = 1)[0] \n",
        "reviewer_1 = pd.DataFrame(final_group.groupby('classification_x').count()['final_score_r1']).rename(columns = {\"final_score_r1\": 'number'})\n",
        "reviewer_2 = pd.DataFrame(final_group.groupby('classification_y').count()['final_score_r1']).rename(columns = {\"final_score_r1\": 'number'})\n",
        "reviewer_3 = pd.DataFrame(final_group.groupby('classification').count()['final_score_r1']).rename(columns = {\"final_score_r1\": 'number'})\n",
        "avg = pd.DataFrame(final_group.groupby('avg_classification').count()['final_score_r1']).rename(columns = {\"final_score_r1\": 'number'})\n",
        "mode = pd.DataFrame(final_group.groupby('mode').count()['final_score_r1']).rename(columns = {\"final_score_r1\": 'number'})\n",
        "\n",
        "\n",
        "reviewer_1[\"number_avg\"] = avg[\"number\"]\n",
        "avg = reviewer_1\n",
        "avg[\"reviewer_2\"] = reviewer_2[\"number\"]\n",
        "avg['reviewer_3'] = reviewer_3['number']\n",
        "avg = avg.sort_values('number', ascending= False)\n",
        "avg[\"mode\"] = mode['number']\n",
        "\n",
        "label = ['Others', 'target1', 'target2']\n",
        "index = np.arange(len(label))\n",
        "\n",
        "plt.bar(index + 0.00, avg[\"number\"]/1528, color = 'blue', width = 0.2)\n",
        "plt.bar(index + 0.2, avg[\"reviewer_2\"]/1528, color = 'green', width = 0.2)\n",
        "plt.bar(index + 0.4, avg[\"reviewer_3\"]/1528 , color = 'red', width = 0.2)\n",
        "plt.bar(index + 0.6, avg[\"number_avg\"]/1528 , color = 'purple', width = 0.2)\n",
        "plt.bar(index + 0.8, avg[\"mode\"]/1528 , color = 'pink', width = 0.2)\n",
        "\n",
        "plt.xlabel('Classification', fontsize=15)\n",
        "plt.ylabel('Percentage of item', fontsize=15)\n",
        "plt.xticks(index, label, fontsize=15, rotation=0)\n",
        "plt.title('Percentage of items classification for each reviewer by each label',fontsize=20)\n",
        "plt.legend(('reviewer_1',\"reviewer_2\",\"reviewer_3\",\"avg_number\",\"mode\"))\n",
        "plt.show()"
      ],
      "metadata": {
        "colab": {
          "base_uri": "https://localhost:8080/",
          "height": 492
        },
        "id": "b-RqIISHxmNp",
        "outputId": "a0790eb3-bf29-49e7-c26b-e9ca04c23a09"
      },
      "execution_count": 19,
      "outputs": [
        {
          "output_type": "display_data",
          "data": {
            "text/plain": [
              "<Figure size 640x480 with 1 Axes>"
            ],
            "image/png": "[encoded data removed]"
          },
          "metadata": {}
        }
      ]
    },
    {
      "cell_type": "markdown",
      "source": [
        "# 2.2 Error rate for the overall result and for each reviewers"
      ],
      "metadata": {
        "id": "JNpiH9OIxZiB"
      }
    },
    {
      "cell_type": "markdown",
      "source": [
        "# Error rate gives you information as to which reviewers tend to have the most disagreement with the actual end result. This lets us know which reviewer is more likely to have biased result comparing to the actual result; The analysis shows that reviewer 1 has the most error rate.\n"
      ],
      "metadata": {
        "id": "MYrFjPCmzjos"
      }
    },
    {
      "cell_type": "code",
      "source": [
        "# AVG\n",
        "group1_err = 1 - pd.DataFrame(avg[\"number_avg\"]/1528)[\"number_avg\"][0]\n",
        "group1_err_r1 = 1 - pd.DataFrame(avg[\"number\"]/1528)[\"number\"][0]\n",
        "group1_err_r2= 1 - pd.DataFrame(avg[\"reviewer_2\"]/1528)[\"reviewer_2\"][0]\n",
        "group1_err_r3 = 1 - pd.DataFrame(avg[\"reviewer_3\"]/1528)[\"reviewer_3\"][0]\n",
        "\n",
        "print(\"Group_avg\", group1_err,  \"reviewer_1\", group1_err_r1, \"reviewer_2\", group1_err_r2 , \"reviewer_3\", group1_err_r3)"
      ],
      "metadata": {
        "colab": {
          "base_uri": "https://localhost:8080/"
        },
        "id": "XnKTiaPixZ4a",
        "outputId": "9d21b577-7b27-41fd-dc0a-ce06a30c65fd"
      },
      "execution_count": 11,
      "outputs": [
        {
          "output_type": "stream",
          "name": "stdout",
          "text": [
            "Group_avg 0.12434554973821987 reviewer_1 0.2421465968586387 reviewer_2 0.1086387434554974 reviewer_3 0.09424083769633507\n"
          ]
        }
      ]
    },
    {
      "cell_type": "markdown",
      "source": [
        "# 2.3 Result agreement rate between reviewers- Fleiss_Kappa"
      ],
      "metadata": {
        "id": "458WrffO0G_6"
      }
    },
    {
      "cell_type": "code",
      "source": [
        "inter_group1 = final_group[[\"classification_x\",\"classification_y\",\"classification\"]]\n",
        "inter_group1['others_r1'] = inter_group1.apply(lambda x : 1 if x['classification_x'] == 'Others' else 0, axis=1)\n",
        "inter_group1['others_r2'] = inter_group1.apply(lambda x : 1 if x['classification_y'] == 'Others' else 0, axis=1)\n",
        "inter_group1['others_r3'] = inter_group1.apply(lambda x : 1 if x['classification'] == 'Others' else 0, axis=1)\n",
        "\n",
        "inter_group1[\"No\"] = inter_group1.apply(lambda x : 3 - (float(x[\"others_r1\"]) + float(x[\"others_r2\"]) + float(x[\"others_r3\"])), axis=1)\n",
        "inter_group1[\"Yes\"] = inter_group1.apply(lambda x : (float(x[\"others_r1\"]) + float(x[\"others_r2\"]) + float(x[\"others_r3\"])), axis=1)\n",
        "\n",
        "kappa_Group1= inter_group1[['Yes','No']]\n",
        "kappa1= kappa_Group1.values\n",
        "kappa1 = fleiss_kappa(kappa1)\n",
        "kappa1"
      ],
      "metadata": {
        "colab": {
          "base_uri": "https://localhost:8080/"
        },
        "id": "ZmPck7p-0S18",
        "outputId": "176ab9bf-b8de-4188-dc5c-885fea1dc49f"
      },
      "execution_count": 12,
      "outputs": [
        {
          "output_type": "execute_result",
          "data": {
            "text/plain": [
              "0.47507232401157196"
            ]
          },
          "metadata": {},
          "execution_count": 12
        }
      ]
    },
    {
      "cell_type": "markdown",
      "source": [
        "# 3 Statistical Inference and Analysis"
      ],
      "metadata": {
        "id": "bbj1_HayALrM"
      }
    },
    {
      "cell_type": "markdown",
      "source": [
        "Chi-square testing to determine if there is a relationship between the questions and the classification result.\n",
        " "
      ],
      "metadata": {
        "id": "O4Vh1KoSAQfe"
      }
    },
    {
      "cell_type": "code",
      "source": [
        "# Relationship between each question and the classification result\n",
        "\n",
        "def chi_square(m,n):\n",
        "  contingency_table=pd.crosstab(m,n)\n",
        "  Observed_Values = contingency_table.values\n",
        "  #Expected Values\n",
        "\n",
        "  b=scipy.stats.chi2_contingency(contingency_table)\n",
        "  Expected_Values = b[3]\n",
        "  #Degree of Freedom\n",
        "  no_of_rows=len(contingency_table.iloc[0:2,0])\n",
        "  no_of_columns=len(contingency_table.iloc[0,0:3])\n",
        "  df=(no_of_rows-1)*(no_of_columns-1)\n",
        "  #Significance Level 5%\n",
        "  alpha=0.05\n",
        "  #chi-square statistic - χ2\n",
        "\n",
        "  chi_square=sum([(o-e)**2./e for o,e in zip(Observed_Values,Expected_Values)])\n",
        "  chi_square_statistic=chi_square[0]+chi_square[1]\n",
        "  #critical_value\n",
        "  critical_value=chi2.ppf(q=1-alpha,df=df)\n",
        "  # p-value\n",
        "  p_value=1-chi2.cdf(x=chi_square_statistic,df=df)\n",
        "  print('p-value:',p_value)\n",
        "  print('Significance level: ',alpha)\n",
        "  print('Degree of Freedom: ',df)\n",
        "  print('chi-square statistic:',chi_square_statistic)\n",
        "  print('critical_value:',critical_value)\n",
        "  print('p-value:',p_value)\n",
        "\n",
        "  chi_square.astype(int)> 0.09*(chi_square_statistic).astype(int)\n",
        "  if p_value<=alpha:\n",
        "      print(\"Reject H0,There is a relationship between 2 categorical variables\")\n",
        "  else:\n",
        "      print(\"Retain H0,There is no relationship between 2 categorical variables\")"
      ],
      "metadata": {
        "id": "whxqlCmlAOJF"
      },
      "execution_count": 13,
      "outputs": []
    },
    {
      "cell_type": "code",
      "source": [
        "chi_square(reviewer1[\"q1_reviewer1\"],reviewer1[\"classification\"])"
      ],
      "metadata": {
        "colab": {
          "base_uri": "https://localhost:8080/"
        },
        "id": "Ocz0cQK4CRma",
        "outputId": "d80c8f53-7573-4b98-a28a-ab59aeb7d0d7"
      },
      "execution_count": 14,
      "outputs": [
        {
          "output_type": "stream",
          "name": "stdout",
          "text": [
            "p-value: 0.0\n",
            "Significance level:  0.05\n",
            "Degree of Freedom:  2\n",
            "chi-square statistic: 171.69398475391296\n",
            "critical_value: 5.991464547107979\n",
            "p-value: 0.0\n",
            "Reject H0,There is a relationship between 2 categorical variables\n",
            "Reject H0,There is a relationship between 2 categorical variables\n"
          ]
        }
      ]
    },
    {
      "cell_type": "code",
      "source": [
        "# Relationship between each question and the classification result\n",
        "chi_square(reviewer2[\"q1_reviewer2\"],reviewer2[\"classification\"])"
      ],
      "metadata": {
        "colab": {
          "base_uri": "https://localhost:8080/"
        },
        "id": "cUldPHq5CC-d",
        "outputId": "b94c8178-2dc5-48e3-8714-a516d70edb70"
      },
      "execution_count": 15,
      "outputs": [
        {
          "output_type": "stream",
          "name": "stdout",
          "text": [
            "p-value: 0.0\n",
            "Significance level:  0.05\n",
            "Degree of Freedom:  2\n",
            "chi-square statistic: 85.24360537287478\n",
            "critical_value: 5.991464547107979\n",
            "p-value: 0.0\n",
            "Reject H0,There is a relationship between 2 categorical variables\n",
            "Reject H0,There is a relationship between 2 categorical variables\n"
          ]
        }
      ]
    },
    {
      "cell_type": "code",
      "source": [
        "# Relationship between each question and the classification result\n",
        "chi_square(reviewer3[\"q1_reviewer3\"],reviewer2[\"classification\"])"
      ],
      "metadata": {
        "colab": {
          "base_uri": "https://localhost:8080/"
        },
        "id": "f3ot4LZnCeXx",
        "outputId": "cd53bbd7-3cb8-4192-d123-96d9911c28de"
      },
      "execution_count": 16,
      "outputs": [
        {
          "output_type": "stream",
          "name": "stdout",
          "text": [
            "p-value: 0.0\n",
            "Significance level:  0.05\n",
            "Degree of Freedom:  2\n",
            "chi-square statistic: 103.10506854625551\n",
            "critical_value: 5.991464547107979\n",
            "p-value: 0.0\n",
            "Reject H0,There is a relationship between 2 categorical variables\n",
            "Reject H0,There is a relationship between 2 categorical variables\n"
          ]
        }
      ]
    },
    {
      "cell_type": "markdown",
      "source": [
        "#3.2 Hypothesis test among reviewers classification results (ANOVA F-test)"
      ],
      "metadata": {
        "id": "fYGM9xv7Bavp"
      }
    },
    {
      "cell_type": "markdown",
      "source": [
        "# This is to test if there are any significant differences between each reviewers final decisions."
      ],
      "metadata": {
        "id": "cINSrCRHBwCx"
      }
    },
    {
      "cell_type": "markdown",
      "source": [
        "ANOVA Hypothesis\n",
        "\n",
        "- Null hypothesis: Groups means are equal (no variation in error rate of groups)\n",
        "- Alternative hypothesis: At least, one group mean is different from other groups"
      ],
      "metadata": {
        "id": "E7RytOHoBfpd"
      }
    },
    {
      "cell_type": "code",
      "source": [
        "#import scipy.stats as stats\n",
        "group1f=  reviewer1.apply(lambda x : 1 if x['classification'] == 'Others' else 0, axis=1)\n",
        "group2f=  reviewer2.apply(lambda x : 1 if x['classification'] == 'Others' else 0, axis=1)\n",
        "group3f= reviewer3.apply(lambda x : 1 if x['classification'] == 'Others' else 0, axis=1)\n",
        "print(scipy.stats.f_oneway(group1f,group2f,group3f))\n",
        "f, p = scipy.stats.f_oneway(group1f,group2f,group3f)\n",
        "print(\"p-value for significance is: \", p)\n",
        "if p<0.05:\n",
        "    print(\"reject null hypothesis\")\n",
        "else:\n",
        "    print(\"accept null hypothesis\")"
      ],
      "metadata": {
        "colab": {
          "base_uri": "https://localhost:8080/"
        },
        "id": "SyQX38LDBT_A",
        "outputId": "10fd5be0-65e9-4c0c-f02a-e923b14a058d"
      },
      "execution_count": 17,
      "outputs": [
        {
          "output_type": "stream",
          "name": "stdout",
          "text": [
            "F_onewayResult(statistic=83.3167917474773, pvalue=2.8743334120666532e-36)\n",
            "p-value for significance is:  2.8743334120666532e-36\n",
            "reject null hypothesis\n"
          ]
        }
      ]
    },
    {
      "cell_type": "markdown",
      "source": [
        "# Conclusion:\n",
        "Based on the kappa result as well as the agreement rate compare to the actual label, we are able to determine: \n",
        "- 1) which question most likely to subject to disagreement rate, in this case is question 3 and 8.\n",
        "- 2) which reviewers are most likely to subject to bias, in this case would be reviewer 1 since he has the lowest agreement rate.\n",
        "- 3) There is a relationship between rubric questions to the final classification results for each reviewer.\n",
        "- 4) The agreement rate for the overall group, in this case would be 0.47 based on kappa score."
      ],
      "metadata": {
        "id": "JXSg0Gy_01Ma"
      }
    }
  ]
}
